{
 "cells": [
  {
   "cell_type": "code",
   "execution_count": null,
   "metadata": {},
   "outputs": [],
   "source": []
  },
  {
   "cell_type": "markdown",
   "metadata": {},
   "source": [
    "# <u>Turnery Operator</u> \n",
    "<img src=\"Python_tutorial/Turnery_Operator.png\"/>"
   ]
  },
  {
   "cell_type": "code",
   "execution_count": 5,
   "metadata": {},
   "outputs": [
    {
     "name": "stdout",
     "output_type": "stream",
     "text": [
      "True\n"
     ]
    }
   ],
   "source": [
    "paglu=\"dumru\"\n",
    "print(True) if paglu==\"dumru\" else print(False) "
   ]
  },
  {
   "cell_type": "code",
   "execution_count": 10,
   "metadata": {},
   "outputs": [
    {
     "name": "stdout",
     "output_type": "stream",
     "text": [
      "Can vote?\n",
      " YES✋\n"
     ]
    }
   ],
   "source": [
    "age=19\n",
    "can_vote= \"YES✋\" if age>=18 else \"NO🚫\"\n",
    "print(\"Can vote?\\n\",can_vote)"
   ]
  },
  {
   "cell_type": "markdown",
   "metadata": {},
   "source": [
    "# <u>Functions</u> \n",
    "## Its basically a piece of code which can be called anywhere after its declaration\n",
    "#### Once the function has been evaluated for an input, the result can be stored and referred to the next time the function of that input is needed, reducing the number of times the function is called. This is called memoization.\n",
    "<img src=\"Python_tutorial/Function.png\"/><br>\n",
    "### Example of function with None coming up 🚛🚛🚛🚛"
   ]
  },
  {
   "cell_type": "markdown",
   "metadata": {},
   "source": [
    "# <u>None</u>\n",
    "### <i>Absense of any value</i>"
   ]
  },
  {
   "cell_type": "code",
   "execution_count": 8,
   "metadata": {},
   "outputs": [],
   "source": [
    "def bhaav_dogi():\n",
    "    print(None)\n"
   ]
  },
  {
   "cell_type": "markdown",
   "metadata": {},
   "source": [
    "### Since bhaav_dogi() didn't had return type so it will return <i>None</i>"
   ]
  },
  {
   "cell_type": "code",
   "execution_count": 9,
   "metadata": {},
   "outputs": [
    {
     "name": "stdout",
     "output_type": "stream",
     "text": [
      "Function's print Statement None\n",
      "What function returned None\n"
     ]
    }
   ],
   "source": [
    "print(\"Function's print Statement\", end=\" \" )\n",
    "a= bhaav_dogi() \n",
    "print(\"What function returned\",end=\" \")\n",
    "print(a)"
   ]
  },
  {
   "cell_type": "markdown",
   "metadata": {},
   "source": [
    "## So in Short \n",
    "## >> bhaav_dogi() == None\n",
    "### &nbsp; &nbsp; <font color=\"red\"> True </font> "
   ]
  },
  {
   "cell_type": "markdown",
   "metadata": {},
   "source": [
    "# <u>Function with arguments</u>\n",
    "<img src=\"Python_tutorial/Function_arguments.png\"/>"
   ]
  },
  {
   "cell_type": "code",
   "execution_count": 3,
   "metadata": {},
   "outputs": [
    {
     "name": "stdout",
     "output_type": "stream",
     "text": [
      "🎵🎵🎵\n",
      "Function wale Babu mera argument chalana\n",
      "Funtion Wale Babu mera argument chalana\n",
      "Funtion Wale Babu mera argument chalana\n",
      "O Function wale mera argument to chala de\n",
      "thodi space to tu dede \n",
      "Aur mujhe pass kara de\n",
      "🎵🎵🎵\n"
     ]
    }
   ],
   "source": [
    "def Function_Wale_Babu(mera, argument , chalana,Age_ki_lines):\n",
    "        print(\"🎵🎵🎵\\nFunction wale Babu\", end=\" \")\n",
    "        print(mera)\n",
    "        print(argument)\n",
    "        print(chalana)\n",
    "        print(Age_ki_lines)\n",
    "\n",
    "a=\"mera argument chalana\"\n",
    "b=\"Funtion Wale Babu mera argument chalana\"\n",
    "c=\"\"\"O Function wale mera argument to chala de\n",
    "thodi space to tu dede \n",
    "Aur mujhe pass kara de\n",
    "🎵🎵🎵\"\"\"\n",
    "Function_Wale_Babu(a,b,b,c)\n"
   ]
  },
  {
   "cell_type": "markdown",
   "metadata": {},
   "source": [
    "## <u>Functions with Unlimited Arguments ⚡⚡⚡⚡⚡</u>\n",
    "<img src=\"Python_tutorial/Function_args.png\"> "
   ]
  },
  {
   "cell_type": "code",
   "execution_count": 12,
   "metadata": {},
   "outputs": [
    {
     "name": "stdout",
     "output_type": "stream",
     "text": [
      "🎵🎵🎵\n",
      "aloo lele🥔\n",
      "bhindi lele\n",
      "dhaniya lele🥬\n",
      "adrak lele\n",
      "gobhi lele\n",
      "kaddu lele\n",
      "pyaj lele\n",
      "🎵🎵🎵\n"
     ]
    }
   ],
   "source": [
    "def sabkuch_lele(*leta_hu):\n",
    "    print(\"🎵🎵🎵\")\n",
    "    for i in leta_hu:\n",
    "        print(i)\n",
    "    print(\"🎵🎵🎵\")\n",
    "sabkuch_lele(\"aloo lele🥔\",\"bhindi lele\",\"dhaniya lele🥬\",\"adrak lele\",\"gobhi lele\",\"kaddu lele\",\"pyaj lele\")"
   ]
  },
  {
   "cell_type": "code",
   "execution_count": 91,
   "metadata": {},
   "outputs": [
    {
     "name": "stdout",
     "output_type": "stream",
     "text": [
      "square 16\n",
      "cube 27\n"
     ]
    }
   ],
   "source": [
    "#lambda = >Basically a one line Function\n",
    "\n",
    "k= lambda x: x**2\n",
    "print(\"square\",k(4))\n",
    "print(\"cube\",(lambda x: x**3) (3))"
   ]
  },
  {
   "cell_type": "markdown",
   "metadata": {},
   "source": [
    "## <u>Functions with Function As a Parameter 😵</u>\n",
    "<img src=\"Python_tutorial/Function_argument_function.png\">"
   ]
  },
  {
   "cell_type": "code",
   "execution_count": 75,
   "metadata": {},
   "outputs": [
    {
     "name": "stdout",
     "output_type": "stream",
     "text": [
      "Jeb se => Bank mein Rs 1000\n"
     ]
    }
   ],
   "source": [
    "def paisa(argument,price):\n",
    "    print(\"Jeb se\", end=\" => \")\n",
    "    argument(price)\n",
    "\n",
    "def Bank(Price):\n",
    "    print(\"Bank mein Rs\",Price)\n",
    "\n",
    "paisa(Bank,1000)  "
   ]
  },
  {
   "cell_type": "markdown",
   "metadata": {},
   "source": [
    "# <u>Dictionary</u> \n",
    "<img src=\"Python_tutorial/key_value.png\"/>"
   ]
  },
  {
   "cell_type": "code",
   "execution_count": 5,
   "metadata": {},
   "outputs": [],
   "source": [
    "Ganja_Meter={ \"LALA\":10,\"Rahul\":5,\"Pajama\":100,\"Maggie\":20, \"Ankit\":0, 123:\"😏\" } "
   ]
  },
  {
   "cell_type": "markdown",
   "metadata": {},
   "source": [
    "## <u>Dictionary Functions</u>\n",
    "### <u>in</u> => Finds if key is available or not"
   ]
  },
  {
   "cell_type": "code",
   "execution_count": 6,
   "metadata": {},
   "outputs": [
    {
     "name": "stdout",
     "output_type": "stream",
     "text": [
      "False\n"
     ]
    }
   ],
   "source": [
    "print(\"naam mein kya rakha hai 🤔\" in Ganja_Meter) "
   ]
  },
  {
   "cell_type": "code",
   "execution_count": 7,
   "metadata": {},
   "outputs": [
    {
     "name": "stdout",
     "output_type": "stream",
     "text": [
      "True\n"
     ]
    }
   ],
   "source": [
    "print(\"Pajama\" in Ganja_Meter)"
   ]
  },
  {
   "cell_type": "markdown",
   "metadata": {},
   "source": [
    "### <u>get</u> => Gets the value from the dictionary\n",
    "<img src=\"Python_tutorial/dict_get.png\"/>"
   ]
  },
  {
   "cell_type": "code",
   "execution_count": 8,
   "metadata": {},
   "outputs": [
    {
     "name": "stdout",
     "output_type": "stream",
     "text": [
      "-1\n"
     ]
    }
   ],
   "source": [
    "print(Ganja_Meter.get(\"Lets Nacho 🕺\", -1))"
   ]
  },
  {
   "cell_type": "code",
   "execution_count": 9,
   "metadata": {},
   "outputs": [
    {
     "name": "stdout",
     "output_type": "stream",
     "text": [
      "5\n"
     ]
    }
   ],
   "source": [
    "print(Ganja_Meter.get(\"Rahul\", \"Default Nahi chalega 🚫\"))"
   ]
  },
  {
   "cell_type": "markdown",
   "metadata": {},
   "source": [
    "### <u>keys</u> => Returns all the keys in the dictionary "
   ]
  },
  {
   "cell_type": "code",
   "execution_count": 10,
   "metadata": {},
   "outputs": [
    {
     "name": "stdout",
     "output_type": "stream",
     "text": [
      "dict_keys(['LALA', 'Rahul', 'Pajama', 'Maggie', 'Ankit', 123])\n"
     ]
    }
   ],
   "source": [
    "print(Ganja_Meter.keys())"
   ]
  },
  {
   "cell_type": "markdown",
   "metadata": {},
   "source": [
    "### <u>values</u> => Returns all the values in the dictionary"
   ]
  },
  {
   "cell_type": "code",
   "execution_count": 11,
   "metadata": {},
   "outputs": [
    {
     "name": "stdout",
     "output_type": "stream",
     "text": [
      "dict_values([10, 5, 100, 20, 0, '😏'])\n"
     ]
    }
   ],
   "source": [
    "print(Ganja_Meter.values())"
   ]
  },
  {
   "cell_type": "markdown",
   "metadata": {},
   "source": [
    "### Add Elements to the <font color=\"red\"> <i>Ganja_Meter</i> </font>  🤣🤣🤣🤣"
   ]
  },
  {
   "cell_type": "code",
   "execution_count": 12,
   "metadata": {},
   "outputs": [
    {
     "name": "stdout",
     "output_type": "stream",
     "text": [
      "{'LALA': 10, 'Rahul': 5, 'Pajama': 100, 'Maggie': 20, 'Ankit': 0, 123: '😏', 'Jethliya': [1, 2, 3]}\n"
     ]
    }
   ],
   "source": [
    "Ganja_Meter[\"Jethliya\"]=[1,2,3]\n",
    "print(Ganja_Meter)"
   ]
  },
  {
   "cell_type": "markdown",
   "metadata": {},
   "source": [
    "## <u>Function with Unlimited Arguments ⚡⚡⚡ and Names 📛📛📛</u>\n",
    "<img src=\"Python_tutorial/Function_namedargs.png\"/><br>\n",
    "### Must watch => https://www.youtube.com/watch?v=YDHvCEm_km8"
   ]
  },
  {
   "cell_type": "code",
   "execution_count": 66,
   "metadata": {},
   "outputs": [
    {
     "name": "stdout",
     "output_type": "stream",
     "text": [
      "🎵🎵🎵\n",
      "a      Mai Teri Bhook Ka Kaatil🔪\n",
      "b      Mai Tere Pet Ke Kaabil🍜\n",
      "c      Tu Bhukkad Main Teri Manzil🥅\n",
      "a      Soup ka Dariya hai ye behta🥣\n",
      "b      Doob ja Tujhse hai Kheta🏊‍♀️\n",
      "c      Aa Mere Masala Mein Aake Mill🥂\n",
      "a      Ha wo Bhukaad Kya wo Bhukkad😋\n",
      "b      Pet Mein Jiske Bhookh Na Ho!🤤\n",
      "c      Lut Gaya Samjho Wo Bhukkad😭\n",
      "a      pass jiske hum na ho🚫\n",
      "b      Maggi Maggi Maggi🍜\n",
      "a      O Maggi Maggi Re O Maggi Maggi🍜\n",
      "b      AA Pass AA Reh na Jaye koi Masala baki🤤\n",
      "a      O Maggi Maggi Re O Maggi Maggi🍜\n",
      "b      AA Pass AA Reh na Jaye koi Masala baki🤤\n",
      "    🎵🎵🎵\n"
     ]
    }
   ],
   "source": [
    "def maggie_song(**lines):\n",
    "    for i in lines.keys():\n",
    "        print(i,\"    \",lines[i])\n",
    "print(\"🎵🎵🎵\")\n",
    "maggie_song(a=\"Mai Teri Bhook Ka Kaatil🔪\",b=\"Mai Tere Pet Ke Kaabil🍜\",c=\"Tu Bhukkad Main Teri Manzil🥅\")\n",
    "maggie_song(a=\"Soup ka Dariya hai ye behta🥣\",b=\"Doob ja Tujhse hai Kheta🏊‍♀️\",c=\"Aa Mere Masala Mein Aake Mill🥂\")\n",
    "maggie_song(a=\"Ha wo Bhukaad Kya wo Bhukkad😋\",b=\"Pet Mein Jiske Bhookh Na Ho!🤤\",c=\"Lut Gaya Samjho Wo Bhukkad😭\")\n",
    "maggie_song(a=\"pass jiske hum na ho🚫\",b=\"Maggi Maggi Maggi🍜\")\n",
    "maggie_song(a=\"O Maggi Maggi Re O Maggi Maggi🍜\", b=\"AA Pass AA Reh na Jaye koi Masala baki🤤\")\n",
    "maggie_song(a=\"O Maggi Maggi Re O Maggi Maggi🍜\", b=\"AA Pass AA Reh na Jaye koi Masala baki🤤\")\n",
    "print(\"    🎵🎵🎵\") "
   ]
  },
  {
   "cell_type": "markdown",
   "metadata": {},
   "source": [
    "# <u>Tuples</u> \n",
    "### Lists but are constant after declaration"
   ]
  },
  {
   "cell_type": "code",
   "execution_count": 13,
   "metadata": {},
   "outputs": [
    {
     "name": "stdout",
     "output_type": "stream",
     "text": [
      "('RTU', 'is', 'N.O.', 1, '🤬🤬🤬🤬🤬🤬', '-_-')\n"
     ]
    }
   ],
   "source": [
    "Dil_Ki_Baat=(\"RTU\",\"is\",\"N.O.\",1,\"🤬🤬🤬🤬🤬🤬\", \"-_-\" )\n",
    "print(Dil_Ki_Baat)"
   ]
  },
  {
   "cell_type": "markdown",
   "metadata": {},
   "source": [
    "### Assigning after decalaration will give Type Error"
   ]
  },
  {
   "cell_type": "code",
   "execution_count": 14,
   "metadata": {},
   "outputs": [
    {
     "ename": "TypeError",
     "evalue": "'tuple' object does not support item assignment",
     "output_type": "error",
     "traceback": [
      "\u001b[1;31m---------------------------------------------------------------------------\u001b[0m",
      "\u001b[1;31mTypeError\u001b[0m                                 Traceback (most recent call last)",
      "\u001b[1;32m<ipython-input-14-5fd1c495e0f3>\u001b[0m in \u001b[0;36m<module>\u001b[1;34m\u001b[0m\n\u001b[1;32m----> 1\u001b[1;33m \u001b[0mDil_Ki_Baat\u001b[0m\u001b[1;33m[\u001b[0m\u001b[1;36m3\u001b[0m\u001b[1;33m]\u001b[0m\u001b[1;33m=\u001b[0m \u001b[1;33m-\u001b[0m\u001b[1;36m1\u001b[0m\u001b[1;33m\u001b[0m\u001b[1;33m\u001b[0m\u001b[0m\n\u001b[0m",
      "\u001b[1;31mTypeError\u001b[0m: 'tuple' object does not support item assignment"
     ]
    }
   ],
   "source": [
    "Dil_Ki_Baat[3]= -1"
   ]
  },
  {
   "cell_type": "markdown",
   "metadata": {},
   "source": [
    "### but things can be printed using indexes  "
   ]
  },
  {
   "cell_type": "code",
   "execution_count": 41,
   "metadata": {},
   "outputs": [
    {
     "name": "stdout",
     "output_type": "stream",
     "text": [
      "1\n"
     ]
    }
   ],
   "source": [
    "print(Dil_Ki_Baat[3])\n",
    "#Empty Tuple\n",
    "Khali=()"
   ]
  },
  {
   "cell_type": "markdown",
   "metadata": {},
   "source": [
    "# <u>List Functions</u>\n",
    "### Setting Things Up for all, any, enumerate 👇"
   ]
  },
  {
   "cell_type": "code",
   "execution_count": 42,
   "metadata": {},
   "outputs": [
    {
     "name": "stdout",
     "output_type": "stream",
     "text": [
      "[0, 1, 2, 3, 4, 5, 6, 7, 8, 9]\n"
     ]
    }
   ],
   "source": [
    "List_banao=[i for i in range(10)]\n",
    "print(List_banao)"
   ]
  },
  {
   "cell_type": "code",
   "execution_count": 43,
   "metadata": {},
   "outputs": [
    {
     "name": "stdout",
     "output_type": "stream",
     "text": [
      "[False, False, False, False, False, False, True, True, True, True]\n"
     ]
    }
   ],
   "source": [
    "List_pe_condition= [i>5 for i in List_banao]\n",
    "print(List_pe_condition)"
   ]
  },
  {
   "cell_type": "markdown",
   "metadata": {},
   "source": [
    "## <u>all</u> \n",
    "### Returns true if all the elements in the list is true\n",
    "&nbsp; &nbsp; &nbsp;  <img src=\"Python_tutorial/list_all.png\"/>"
   ]
  },
  {
   "cell_type": "code",
   "execution_count": 44,
   "metadata": {},
   "outputs": [
    {
     "name": "stdout",
     "output_type": "stream",
     "text": [
      "False\n"
     ]
    }
   ],
   "source": [
    "print(all(List_pe_condition))"
   ]
  },
  {
   "cell_type": "markdown",
   "metadata": {},
   "source": [
    "## <u>any</u> \n",
    "### Returns true if any the element in the list is true \n",
    "&nbsp; &nbsp; &nbsp;  <img src=\"Python_tutorial/list_any.png\"/>"
   ]
  },
  {
   "cell_type": "code",
   "execution_count": 45,
   "metadata": {},
   "outputs": [
    {
     "name": "stdout",
     "output_type": "stream",
     "text": [
      "True\n"
     ]
    }
   ],
   "source": [
    "print(any(List_pe_condition))"
   ]
  },
  {
   "cell_type": "markdown",
   "metadata": {},
   "source": [
    "## <u>Enumerate</u>\n",
    "### It can be used to get indexes along with elements in a list/tuple"
   ]
  },
  {
   "cell_type": "code",
   "execution_count": 46,
   "metadata": {},
   "outputs": [
    {
     "name": "stdout",
     "output_type": "stream",
     "text": [
      "('RTU', 'is', 'N.O.', 1, '🤬🤬🤬🤬🤬🤬', '-_-')\n"
     ]
    }
   ],
   "source": [
    "print(Dil_Ki_Baat)"
   ]
  },
  {
   "cell_type": "code",
   "execution_count": 47,
   "metadata": {},
   "outputs": [
    {
     "name": "stdout",
     "output_type": "stream",
     "text": [
      "(0, 'RTU')\n",
      "(1, 'is')\n",
      "(2, 'N.O.')\n",
      "(3, 1)\n",
      "(4, '🤬🤬🤬🤬🤬🤬')\n",
      "(5, '-_-')\n"
     ]
    }
   ],
   "source": [
    "Index_ke_saath=enumerate(Dil_Ki_Baat)\n",
    "for i in Index_ke_saath:\n",
    "    print(i)"
   ]
  },
  {
   "cell_type": "code",
   "execution_count": null,
   "metadata": {},
   "outputs": [],
   "source": []
  },
  {
   "cell_type": "markdown",
   "metadata": {},
   "source": [
    "# <u>List Comprehension</u>\n",
    "### Used to make list of predictable patters "
   ]
  },
  {
   "cell_type": "code",
   "execution_count": 48,
   "metadata": {},
   "outputs": [
    {
     "name": "stdout",
     "output_type": "stream",
     "text": [
      "This made a list from i values 0,1,2 => [0, 1, 4]\n"
     ]
    }
   ],
   "source": [
    "print(\"This made a list from i values 0,1,2\", end=\" => \")\n",
    "Chokor=[ i**2 for i in range(3)]\n",
    "print(Chokor)"
   ]
  },
  {
   "cell_type": "code",
   "execution_count": 76,
   "metadata": {},
   "outputs": [
    {
     "name": "stdout",
     "output_type": "stream",
     "text": [
      "this made the list of even nos upto 8 => [0, 2, 4, 6, 8]\n"
     ]
    }
   ],
   "source": [
    "print(\"this made the list of even nos upto 8\", end=\" => \")\n",
    "Even=[i for i in range(9) if i%2==0]\n",
    "print(Even)"
   ]
  },
  {
   "cell_type": "markdown",
   "metadata": {},
   "source": [
    "# <u>List Slicing</u> \n",
    "### Used To get a particular part of a List"
   ]
  },
  {
   "cell_type": "code",
   "execution_count": 50,
   "metadata": {},
   "outputs": [
    {
     "name": "stdout",
     "output_type": "stream",
     "text": [
      "[0, 1, 2, 3, 4, 5, 6, 7, 8, 9, 10]\n"
     ]
    }
   ],
   "source": [
    "Ginti=[i for i in range(11)]\n",
    "print(Ginti)"
   ]
  },
  {
   "cell_type": "markdown",
   "metadata": {},
   "source": [
    "<img src=\"Python_tutorial/List_slicing.png\"/> "
   ]
  },
  {
   "cell_type": "code",
   "execution_count": 51,
   "metadata": {},
   "outputs": [
    {
     "name": "stdout",
     "output_type": "stream",
     "text": [
      "[0, 5, 10]\n"
     ]
    }
   ],
   "source": [
    "print( Ginti[ : :5 ] )"
   ]
  },
  {
   "cell_type": "code",
   "execution_count": 52,
   "metadata": {},
   "outputs": [
    {
     "name": "stdout",
     "output_type": "stream",
     "text": [
      "[10, 5, 0]\n"
     ]
    }
   ],
   "source": [
    "print( Ginti[ : :-5 ] ) "
   ]
  },
  {
   "cell_type": "code",
   "execution_count": 53,
   "metadata": {},
   "outputs": [
    {
     "name": "stdout",
     "output_type": "stream",
     "text": [
      "[7, 8, 9, 10]\n"
     ]
    }
   ],
   "source": [
    "print( Ginti[ 7: ] )"
   ]
  },
  {
   "cell_type": "code",
   "execution_count": 54,
   "metadata": {},
   "outputs": [
    {
     "name": "stdout",
     "output_type": "stream",
     "text": [
      "[0, 1, 2, 3, 4, 5, 6]\n"
     ]
    }
   ],
   "source": [
    "print( Ginti[ :7 ] )"
   ]
  },
  {
   "cell_type": "code",
   "execution_count": 55,
   "metadata": {},
   "outputs": [
    {
     "name": "stdout",
     "output_type": "stream",
     "text": [
      "1 2 3 x y\n"
     ]
    }
   ],
   "source": [
    "#String Formating\n",
    "a=\"{0} {1} {2} {x} {y}\".format(1,2,3,y=\"y\",x=\"x\")\n",
    "print(a)"
   ]
  },
  {
   "cell_type": "markdown",
   "metadata": {},
   "source": [
    "# <u>Map</u>\n",
    "## Used to apply a function operation on whole list\n",
    "<img src=\"Python_tutorial/map.png\">"
   ]
  },
  {
   "cell_type": "code",
   "execution_count": 77,
   "metadata": {},
   "outputs": [
    {
     "name": "stdout",
     "output_type": "stream",
     "text": [
      "[0, 1, 2, 3, 4, 5, 6, 7, 8, 9, 10]\n"
     ]
    }
   ],
   "source": [
    "print(Ginti)"
   ]
  },
  {
   "cell_type": "code",
   "execution_count": 79,
   "metadata": {},
   "outputs": [
    {
     "name": "stdout",
     "output_type": "stream",
     "text": [
      "[0, 1, 4, 9, 16, 25, 36, 49, 64, 81, 100]\n"
     ]
    }
   ],
   "source": [
    "def random_name(x):\n",
    "    return x**2\n",
    "map_ka_variable=map(random_name,Ginti)\n",
    "print(list(map_ka_variable))"
   ]
  },
  {
   "cell_type": "markdown",
   "metadata": {},
   "source": [
    "# <u>Filter</u>\n",
    "## Used to apply a lambda's condition on whole list to filter out elements\n",
    "<img src=\"Python_tutorial/filter.png\">"
   ]
  },
  {
   "cell_type": "code",
   "execution_count": 80,
   "metadata": {},
   "outputs": [
    {
     "name": "stdout",
     "output_type": "stream",
     "text": [
      "[0, 1, 2, 3, 4, 5, 6, 7, 8, 9, 10]\n"
     ]
    }
   ],
   "source": [
    "print(Ginti)"
   ]
  },
  {
   "cell_type": "code",
   "execution_count": 82,
   "metadata": {},
   "outputs": [
    {
     "name": "stdout",
     "output_type": "stream",
     "text": [
      "[0, 2, 4, 6, 8, 10]\n"
     ]
    }
   ],
   "source": [
    "filter_ka_variable=filter(lambda x: x%2==0,Ginti)\n",
    "print(list(filter_ka_variable))"
   ]
  },
  {
   "cell_type": "markdown",
   "metadata": {},
   "source": [
    "# Life Savers 🦸‍♂🦸‍♂🦸‍♂🦸‍♂\n",
    "### min => Finds the minimum from a list\n",
    "### max => Finds the maximum from a list\n",
    "### sum => Finds the sum of elements of the list\n",
    "### abs => Finds the absolute value( negative number to positive, positive number to positive 😑😑😑)\n",
    "### len => Gets the length of a string,list,tuple.........."
   ]
  },
  {
   "cell_type": "code",
   "execution_count": 56,
   "metadata": {},
   "outputs": [
    {
     "name": "stdout",
     "output_type": "stream",
     "text": [
      "[0, 1, 2, 3, 4, 5, 6, 7, 8, 9, 10]\n"
     ]
    }
   ],
   "source": [
    "print(Ginti)"
   ]
  },
  {
   "cell_type": "code",
   "execution_count": 57,
   "metadata": {},
   "outputs": [
    {
     "name": "stdout",
     "output_type": "stream",
     "text": [
      "min of Ginti 0\n",
      "max of Ginti 10\n",
      "sum of Ginti 55\n",
      "Absolute of -90 is 90\n"
     ]
    }
   ],
   "source": [
    "print(\"min of Ginti\", min(Ginti) )\n",
    "print(\"max of Ginti\", max(Ginti) )\n",
    "print(\"sum of Ginti\", sum(Ginti) )\n",
    "print(\"Absolute of -90 is\", abs(-90) )\n"
   ]
  },
  {
   "cell_type": "markdown",
   "metadata": {},
   "source": [
    "# <u>Sets</u>\n",
    "### - Don't have Indexes\n",
    "### - Only keep unique elements\n",
    "### - Are Faster than lists"
   ]
  },
  {
   "cell_type": "code",
   "execution_count": 83,
   "metadata": {},
   "outputs": [
    {
     "name": "stdout",
     "output_type": "stream",
     "text": [
      "{2, 6, 7, 8, 45}\n"
     ]
    }
   ],
   "source": [
    "set_banaya={2,45,6,7,8}\n",
    "print(set_banaya)"
   ]
  },
  {
   "cell_type": "code",
   "execution_count": 85,
   "metadata": {},
   "outputs": [
    {
     "ename": "TypeError",
     "evalue": "'set' object is not subscriptable",
     "output_type": "error",
     "traceback": [
      "\u001b[1;31m---------------------------------------------------------------------------\u001b[0m",
      "\u001b[1;31mTypeError\u001b[0m                                 Traceback (most recent call last)",
      "\u001b[1;32m<ipython-input-85-ab36bd920f3b>\u001b[0m in \u001b[0;36m<module>\u001b[1;34m\u001b[0m\n\u001b[1;32m----> 1\u001b[1;33m \u001b[0mprint\u001b[0m\u001b[1;33m(\u001b[0m\u001b[0mset_banaya\u001b[0m\u001b[1;33m[\u001b[0m\u001b[1;36m0\u001b[0m\u001b[1;33m]\u001b[0m\u001b[1;33m)\u001b[0m \u001b[1;31m#can't use indexes on sets\u001b[0m\u001b[1;33m\u001b[0m\u001b[1;33m\u001b[0m\u001b[0m\n\u001b[0m",
      "\u001b[1;31mTypeError\u001b[0m: 'set' object is not subscriptable"
     ]
    }
   ],
   "source": [
    "print(set_banaya[0]) #can't use indexes on sets"
   ]
  },
  {
   "cell_type": "markdown",
   "metadata": {},
   "source": [
    "### <u>add</u> => Used to add elements in the list\n",
    "### <u>remove</u> => Used to remove elements from the list"
   ]
  },
  {
   "cell_type": "code",
   "execution_count": 87,
   "metadata": {},
   "outputs": [
    {
     "name": "stdout",
     "output_type": "stream",
     "text": [
      "before =>  {2, 3, 6, 7, 8, 45}\n",
      "after =>  {2, 3, 6, 7, 8, 45}\n",
      "after after =>  {2, 6, 7, 8, 45}\n"
     ]
    }
   ],
   "source": [
    "print(\"before => \",set_banaya)\n",
    "set_banaya.add(3)\n",
    "print(\"after => \",set_banaya)\n",
    "set_banaya.remove(3)\n",
    "print(\"after after => \",set_banaya)"
   ]
  },
  {
   "cell_type": "markdown",
   "metadata": {},
   "source": [
    "# <u>Set Operations</u>\n",
    "### <u>Union</u> => Combines two sets to form a new one containing all elements of both sets.\n",
    "### <u>Intersection</u> => Gets items which are present in both sets.\n",
    "### <u>Difference operator</u> => Gets items which are present in the first set but not in the second set.\n",
    "### <u>Symmetric difference</u> =>  Opposite of Intersection\n",
    "<img src=\"Python_tutorial/set_operations.png\">"
   ]
  },
  {
   "cell_type": "code",
   "execution_count": 89,
   "metadata": {},
   "outputs": [
    {
     "name": "stdout",
     "output_type": "stream",
     "text": [
      "todo\n"
     ]
    }
   ],
   "source": [
    "print(\"todo\")"
   ]
  },
  {
   "cell_type": "markdown",
   "metadata": {},
   "source": [
    "# <u>String Operations</u><br><br>\n",
    "## <u>Split</u> \n",
    "### Converts String into list\n",
    "<img src=\"Python_tutorial/String_split.png\"/>"
   ]
  },
  {
   "cell_type": "code",
   "execution_count": 58,
   "metadata": {},
   "outputs": [
    {
     "name": "stdout",
     "output_type": "stream",
     "text": [
      "['Pandu', 'Santoshi', 'Employee']\n"
     ]
    }
   ],
   "source": [
    "Hit_list=\"Pandu Santoshi Employee\"\n",
    "print(Hit_list.split())"
   ]
  },
  {
   "cell_type": "code",
   "execution_count": 59,
   "metadata": {},
   "outputs": [
    {
     "name": "stdout",
     "output_type": "stream",
     "text": [
      "['Pandu', 'Santoshi', 'Employee']\n"
     ]
    }
   ],
   "source": [
    "Hit_list=\"Pandu😑Santoshi😑Employee\"\n",
    "print(Hit_list.split(\"😑\"))"
   ]
  },
  {
   "cell_type": "markdown",
   "metadata": {},
   "source": [
    "## <u>Replace</u>\n",
    "### Replaces a charcter in a string\n",
    "<img src=\"Python_tutorial/String_replace.png\"/>"
   ]
  },
  {
   "cell_type": "code",
   "execution_count": 60,
   "metadata": {},
   "outputs": [
    {
     "name": "stdout",
     "output_type": "stream",
     "text": [
      "Paglu🥴Dumru🥴Kamlesh\n"
     ]
    }
   ],
   "source": [
    "Name_List=\"Paglu🤣Dumru🤣Kamlesh\"\n",
    "print(Name_List.replace(\"🤣\",\"🥴\"))"
   ]
  },
  {
   "cell_type": "markdown",
   "metadata": {},
   "source": [
    "### startswith and endswith - determine if there is a substring at the start and end of a string"
   ]
  },
  {
   "cell_type": "code",
   "execution_count": 61,
   "metadata": {},
   "outputs": [
    {
     "name": "stdout",
     "output_type": "stream",
     "text": [
      "False\n",
      "True\n"
     ]
    }
   ],
   "source": [
    "\n",
    "print(Name_List.startswith(\"paglu\"))\n",
    "print(Name_List.endswith(\"Kamlesh\"))"
   ]
  },
  {
   "cell_type": "markdown",
   "metadata": {},
   "source": [
    "### To change the case of a string, you can use lower and upper."
   ]
  },
  {
   "cell_type": "code",
   "execution_count": 62,
   "metadata": {},
   "outputs": [
    {
     "name": "stdout",
     "output_type": "stream",
     "text": [
      "Upper Case ===> PAGLU🤣DUMRU🤣KAMLESH\n",
      "Lower Case ===> paglu🤣dumru🤣kamlesh\n"
     ]
    }
   ],
   "source": [
    "print(\"Upper Case ===> \" + Name_List.upper())\n",
    "print(\"Lower Case ===> \" + Name_List.lower())"
   ]
  },
  {
   "cell_type": "markdown",
   "metadata": {},
   "source": [
    "# <u>Class</u> \n",
    "#### Its like a set or category of things having something in common \n",
    "#### Differentiated from others by kind, type, or quality. \n",
    "#### E.g. Male and Females\n",
    "#### &nbsp; All Males have similar physical features\n",
    "#### &nbsp; All Females have similar physical features\n",
    "\n",
    "\n",
    "<img src=\"Python_tutorial/class.png\"/><br><br>"
   ]
  },
  {
   "cell_type": "code",
   "execution_count": 51,
   "metadata": {},
   "outputs": [],
   "source": [
    "class Human:\n",
    "    is_human=0\n",
    "    def __init__(self):\n",
    "        print(\"Human\")\n",
    "        self.gender=\"Non_decided\""
   ]
  },
  {
   "cell_type": "markdown",
   "metadata": {},
   "source": [
    "# <u>Inheritence</u>\n",
    "### It can be used to taranfer all the features of one class to another\n",
    "### Just like a child carries the features of its parents \n",
    "<img src=\"Python_tutorial/Class_inheritence.png\">"
   ]
  },
  {
   "cell_type": "code",
   "execution_count": 67,
   "metadata": {},
   "outputs": [],
   "source": [
    "class Male(Human):\n",
    "    def __init__(self,Naam):\n",
    "        Human.gender=\"Male👨‍🦰\"\n",
    "        self.Name=\"Instance Variable : Name is \"+Naam\n",
    "        print(\"Constructor : \"+ Human.gender)\n",
    "    def voice(self):\n",
    "        print(\"Functon Voice : Moti Awaj📣📣📣\")\n",
    "\n",
    "class Female(Human):\n",
    "    def __init__(self):\n",
    "        Human.gender=\"Female👩\"\n",
    "        self.age=\"Nahi Bataungi 🙅‍♀🙅‍♀🙅‍♀\"\n",
    "        print(\"Constructor : \"+Human.gender)\n",
    "    def bhaav(self):\n",
    "        print(\"Function Bhaav : Nahi Dungi🙅‍♀🙅‍♀🙅‍♀\")"
   ]
  },
  {
   "cell_type": "markdown",
   "metadata": {},
   "source": [
    "## <u>Objects</u> => These are the Things which belong to a class\n",
    "#### E.g. Kamlesh is a object from male class "
   ]
  },
  {
   "cell_type": "code",
   "execution_count": 70,
   "metadata": {},
   "outputs": [
    {
     "name": "stdout",
     "output_type": "stream",
     "text": [
      "Constructor : Male👨‍🦰\n",
      "Constructor : Male👨‍🦰\n",
      "Instance Variable : Name is Pajama\n",
      "Instance Variable : Name is Ankit\n",
      "Constructor : Female👩\n",
      "Function Bhaav : Nahi Dungi🙅‍♀🙅‍♀🙅‍♀\n",
      "Functon Voice : Moti Awaj📣📣📣\n"
     ]
    }
   ],
   "source": [
    "Pajama=Male(\"Pajama\")\n",
    "Ankit=Male(\"Ankit\")\n",
    "print(Pajama.Name)\n",
    "print(Ankit.Name)\n",
    "Maggie=Female()\n",
    "Maggie.bhaav()\n",
    "Pajama.voice()"
   ]
  },
  {
   "cell_type": "markdown",
   "metadata": {},
   "source": [
    "# What the hell happened Above? 🤔🤔🤔🤔\n",
    "## First Some Definations\n",
    "### <u>Constructor</u> => These are the functions Which run when an object is Created. \n",
    "#### &nbsp; &nbsp; &nbsp; &nbsp; &nbsp; &nbsp; &nbsp; In above case when Panjama(object) is created therfore Male's Constructor(\\_\\_init\\_\\_) is called\n",
    "#### &nbsp; &nbsp; &nbsp; &nbsp; &nbsp; &nbsp; &nbsp;  In above case when Maggie(object) is created therfore Female's Constructor(\\_\\_init\\_\\_) is called\n",
    "### <u>Instance Variable</u> => These type of Variable belong to a object of the class \n",
    "#### &nbsp; &nbsp; &nbsp; &nbsp; &nbsp; &nbsp; &nbsp;  In above case Panjama(object) and Ankit(object) has its own copy of variable name \n",
    "### <u>Class Method</u> => Fuction In a Class\n",
    "#### &nbsp; &nbsp; &nbsp; &nbsp; &nbsp; &nbsp; &nbsp;  In above case Maggie(object) called the method bhaav from its class "
   ]
  },
  {
   "cell_type": "code",
   "execution_count": 62,
   "metadata": {},
   "outputs": [
    {
     "name": "stdout",
     "output_type": "stream",
     "text": [
      "Human\n",
      "Human\n",
      "Static Variable from Dusara Insaan 1\n",
      "Static Variable from Insaan 1\n"
     ]
    }
   ],
   "source": [
    "insaan=Human()\n",
    "Human.is_human=1\n",
    "dusara_insaan=Human()\n",
    "\n",
    "print(\"Static Variable from Dusara Insaan\",dusara_insaan.is_human)\n",
    "print(\"Static Variable from Insaan\",insaan.is_human)\n"
   ]
  },
  {
   "cell_type": "markdown",
   "metadata": {},
   "source": [
    "# 🙄🙄🙄🙄\n",
    "### <u>Static Variable</u> => These Variables belong to class which means these variables can be accessed by all the objects in a class\n",
    "#### &nbsp; &nbsp; &nbsp; &nbsp; &nbsp; &nbsp; &nbsp; In above code is_human was set to 1 hence when accessed with dusara_insaan and insaan it gave 1"
   ]
  },
  {
   "cell_type": "markdown",
   "metadata": {},
   "source": [
    "# Operator Overloading \n",
    "### It is basically used to change the use of operators <i> (addition <font color=\"red\"> (+) </font> ,  subtraction <font color=\"red\">(-) </font>  etc...) </i>\n",
    "#### In python Methods are used to overload These methods are as follows:<br>\n",
    "<img src=\"Python_tutorial/Operator_overloading.png\" />  "
   ]
  },
  {
   "cell_type": "code",
   "execution_count": 7,
   "metadata": {},
   "outputs": [],
   "source": [
    "class lol:\n",
    "    def __init__(self):\n",
    "        self.a=9\n",
    "    def __sub__(self,other):\n",
    "        return self.a-other.b\n",
    "class kaka:\n",
    "    def __init__(self):\n",
    "        self.b=8\n"
   ]
  },
  {
   "cell_type": "markdown",
   "metadata": {},
   "source": [
    "<img src=\"Python_tutorial/Operator_overloading_syntax.png\" />  "
   ]
  },
  {
   "cell_type": "code",
   "execution_count": 10,
   "metadata": {},
   "outputs": [
    {
     "name": "stdout",
     "output_type": "stream",
     "text": [
      "difference :  1\n"
     ]
    }
   ],
   "source": [
    "lol_ki_class=lol()\n",
    "kaka_ki_class=kaka()\n",
    "\n",
    "print(\"difference : \" , lol_ki_class-kaka_ki_class)"
   ]
  },
  {
   "cell_type": "markdown",
   "metadata": {},
   "source": [
    "# 🤔🤔🤔\n",
    "## Above The $ lol\\_ki\\_class$ <font color=\"red\"> - </font> $kaka\\_ki\\_class $ called the function __sub__ from lol class which returned the result 1\n"
   ]
  },
  {
   "cell_type": "markdown",
   "metadata": {},
   "source": [
    "# Baki Ka Baad Mein\n",
    "# Can't Continue process is too slow"
   ]
  },
  {
   "cell_type": "markdown",
   "metadata": {},
   "source": [
    "    h $\\;\\;\\;\\;\\;\\;$ h\n",
    "    <pre>j n j </pre> "
   ]
  },
  {
   "cell_type": "code",
   "execution_count": null,
   "metadata": {},
   "outputs": [],
   "source": []
  }
 ],
 "metadata": {
  "file_extension": ".py",
  "kernelspec": {
   "display_name": "Python 3.7.6 64-bit",
   "language": "python",
   "name": "python37664bit69e48cef204f42278d2a23bfa789c72f"
  },
  "language_info": {
   "codemirror_mode": {
    "name": "ipython",
    "version": 3
   },
   "file_extension": ".py",
   "mimetype": "text/x-python",
   "name": "python",
   "nbconvert_exporter": "python",
   "pygments_lexer": "ipython3",
   "version": "3.7.6"
  },
  "mimetype": "text/x-python",
  "name": "python",
  "npconvert_exporter": "python",
  "pygments_lexer": "ipython3",
  "version": 3
 },
 "nbformat": 4,
 "nbformat_minor": 2
}
